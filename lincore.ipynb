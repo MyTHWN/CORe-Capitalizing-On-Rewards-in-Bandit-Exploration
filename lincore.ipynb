{
 "cells": [
  {
   "cell_type": "code",
   "execution_count": 3,
   "metadata": {
    "collapsed": false
   },
   "outputs": [
    {
     "name": "stdout",
     "output_type": "stream",
     "text": [
      "matplotlib 2.0.0\n",
      "Successful!\n"
     ]
    }
   ],
   "source": [
    "import numpy as np; np.random.seed(0)\n",
    "import datetime\n",
    "import itertools\n",
    "import matplotlib as mpl\n",
    "import matplotlib.pyplot as plt\n",
    "import time\n",
    "import sys\n",
    "import datetime\n",
    "\n",
    "sys.path.append(\"..\")\n",
    "\n",
    "mpl.style.use(\"classic\")\n",
    "mpl.rcParams[\"figure.figsize\"] = [5, 3]\n",
    "\n",
    "mpl.rcParams[\"axes.linewidth\"] = 0.75\n",
    "mpl.rcParams[\"grid.linewidth\"] = 0.75\n",
    "mpl.rcParams[\"lines.linewidth\"] = 0.75\n",
    "mpl.rcParams[\"patch.linewidth\"] = 0.75\n",
    "mpl.rcParams[\"xtick.major.size\"] = 3\n",
    "mpl.rcParams[\"ytick.major.size\"] = 3\n",
    "\n",
    "mpl.rcParams[\"pdf.fonttype\"] = 42\n",
    "mpl.rcParams[\"ps.fonttype\"] = 42\n",
    "mpl.rcParams[\"font.size\"] = 9\n",
    "mpl.rcParams[\"axes.titlesize\"] = 10\n",
    "mpl.rcParams[\"legend.fontsize\"] = \"medium\"\n",
    "\n",
    "print(\"matplotlib %s\" % mpl.__version__)\n",
    "print('Successful!')"
   ]
  },
  {
   "cell_type": "code",
   "execution_count": 4,
   "metadata": {
    "collapsed": true
   },
   "outputs": [],
   "source": [
    "from bandits.simulator import *\n",
    "from bandits.algorithms import *\n",
    "from bandits.phe import *\n",
    "from bandits.hse import *\n",
    "\n",
    "def linestyle2dashes(style):\n",
    "  if style == \"--\":\n",
    "    return (3, 3)\n",
    "  elif style == \":\":\n",
    "    return (0.5, 2.5)\n",
    "  else:\n",
    "    return (None, None)"
   ]
  },
  {
   "cell_type": "code",
   "execution_count": 5,
   "metadata": {
    "collapsed": false
   },
   "outputs": [
    {
     "name": "stdout",
     "output_type": "stream",
     "text": [
      " 23: 0.17 0.91 |  49: 0.11 0.89 |   2: 0.29 0.86 |  42: 0.18 0.72 |   6: 0.16 0.83 | Evaluating LinUCB..... 2.4 seconds\n",
      "Regret: 602.42 +/- 44.62 (median: 634.06, max: 702.27, min: 412.99)\n",
      "Evaluating LinTS..... 5.5 seconds\n",
      "Regret: 142.81 +/- 15.03 (median: 132.36, max: 199.26, min: 110.29)\n",
      "Evaluating LinPHE..... 3.1 seconds\n",
      "Regret: 122.86 +/- 7.07 (median: 129.92, max: 141.30, min: 100.73)\n",
      "Evaluating Lin HS-SWR-scale..... 60.4 seconds\n",
      "Regret: 107.42 +/- 9.34 (median: 98.89, max: 140.01, min: 79.46)\n"
     ]
    }
   ],
   "source": [
    "reward_noise = \"normal\"\n",
    "\n",
    "algs = [\n",
    "  (\"LinUCB\", {}, \"cyan\", \"-\", r\"LinUCB\"),\n",
    "  (\"LinTS\", {\"sigma\":0.5}, \"red\", \"-\", r\"LinTS ($\\sigma=0.5$)\"),\n",
    "  (\"LinPHE\", {\"a\": 0.5}, \"darkorange\", \"-\", r\"Gauss-LinPHE ($a = 0.5$)\"),\n",
    "  (\"LinHS_SWR_scale\", {\"sample_portion\": 0.6, \"z\":0.6}, \"darkgreen\", \"-\", \n",
    "                       r\"LinCORe ($\\alpha = z = 0.6$)\"),\n",
    "]\n",
    "\n",
    "num_runs = 5\n",
    "n = 10000\n",
    "K = 50\n",
    "\n",
    "step = np.arange(1, n + 1)\n",
    "sube = (step.size // 10) * np.arange(1, 11) - 1\n",
    "\n",
    "plt.figure(figsize=(3.8, 2.6))\n",
    "for fig in range(1):\n",
    "  d = 10\n",
    "\n",
    "  env = []\n",
    "  for run in range(num_runs):\n",
    "    # standard d-dimensional basis (with a bias term)\n",
    "    basis = np.eye(d)\n",
    "    basis[:, -1] = 1\n",
    "\n",
    "    # arm features in a unit (d - 2)-sphere\n",
    "    X = np.random.randn(K, d - 1)\n",
    "    X /= np.sqrt(np.square(X).sum(axis=1))[:, np.newaxis]\n",
    "    X = np.hstack((X, np.ones((K, 1))))  # bias term\n",
    "    X[: basis.shape[0], :] = basis\n",
    "\n",
    "    # parameter vector in a (d - 2)-sphere with radius 0.5\n",
    "    theta = np.random.randn(d - 1)\n",
    "    theta *= 0.5 / np.sqrt(np.square(theta).sum())\n",
    "    theta = np.append(theta, [0.5])\n",
    "\n",
    "    # create environment\n",
    "    env.append(LinBandit(X, theta, reward_noise, sigma=0.5))\n",
    "    print(\"%3d: %.2f %.2f | \" % (env[-1].best_arm,\n",
    "      env[-1].mu.min(), env[-1].mu.max()), end=\"\")\n",
    "    if (run + 1) % 10 == 0:\n",
    "      print()\n",
    "\n",
    "  plt.subplot(1, 1, fig + 1)\n",
    "  alg_num = 0\n",
    "  for alg in algs:\n",
    "    alg_class = eval(alg[0])\n",
    "\n",
    "    if d < 14:\n",
    "        regret, _ = evaluate_parallel(alg_class, alg[1], env, n, num_process=5)\n",
    "    else:\n",
    "        regret, _ = evaluate(alg_class, alg[1], env, n)\n",
    "\n",
    "    cum_regret = regret.cumsum(axis=0)\n",
    "    std_regret = cum_regret.std(axis=1) / np.sqrt(cum_regret.shape[1])\n",
    "    plt.plot(step, cum_regret.mean(axis=1),\n",
    "      alg[2], dashes=linestyle2dashes(alg[3]),\n",
    "      label=alg[4]) # if alg_num // 3 == fig else None)\n",
    "\n",
    "    plt.errorbar(step[sube], cum_regret[sube, :].mean(axis=1),\n",
    "      cum_regret[sube, :].std(axis=1) / np.sqrt(cum_regret.shape[1]),\n",
    "      fmt=\"none\", ecolor=alg[2], capsize=2)\n",
    "\n",
    "    alg_num += 1\n",
    "\n",
    "  # plt.title(r\"Beta linear bandit\")\n",
    "  plt.title(r\"d = %d, Gaussian linear bandit ($\\sigma = 0.5$) \" % d)\n",
    "  plt.xlabel(\"Round n\",size=10)\n",
    "  if not fig:\n",
    "    plt.ylabel(\"Regret (average {} runs)\".format(num_runs), size=10)\n",
    "  # plt.ylim(0, 400)\n",
    "  plt.ylim(bottom=10,top=1000)\n",
    "  plt.yscale(\"log\")\n",
    "  if fig <= 1:\n",
    "    plt.legend(loc=\"best\", ncol=1, frameon=False, fontsize=8)\n",
    "\n",
    "plt.tight_layout()\n",
    "\n",
    "now = datetime.datetime.now()\n",
    "with open(\"results/compare_baselines_linear_{}_{}_{}_{}_{}.pdf\". \\\n",
    "          format(reward_noise, now.month, now.day, now.hour, now.minute), \"wb\") as f:\n",
    "      plt.savefig(f, format=\"pdf\", dpi=1200, bbox_inches=0)"
   ]
  },
  {
   "cell_type": "code",
   "execution_count": null,
   "metadata": {
    "collapsed": true
   },
   "outputs": [],
   "source": []
  }
 ],
 "metadata": {
  "kernelspec": {
   "display_name": "Python 3",
   "language": "python",
   "name": "python3"
  },
  "language_info": {
   "codemirror_mode": {
    "name": "ipython",
    "version": 3
   },
   "file_extension": ".py",
   "mimetype": "text/x-python",
   "name": "python",
   "nbconvert_exporter": "python",
   "pygments_lexer": "ipython3",
   "version": "3.6.0"
  }
 },
 "nbformat": 4,
 "nbformat_minor": 2
}
