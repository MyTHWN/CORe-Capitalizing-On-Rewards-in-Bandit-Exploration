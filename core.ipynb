{
 "cells": [
  {
   "cell_type": "code",
   "execution_count": 1,
   "metadata": {
    "collapsed": false
   },
   "outputs": [
    {
     "name": "stdout",
     "output_type": "stream",
     "text": [
      "matplotlib 2.0.0\n",
      "Successful!\n"
     ]
    }
   ],
   "source": [
    "import itertools\n",
    "import matplotlib as mpl\n",
    "import matplotlib.pyplot as plt\n",
    "import numpy as np\n",
    "import time\n",
    "import sys\n",
    "import datetime\n",
    "\n",
    "sys.path.append(\"..\")\n",
    "\n",
    "mpl.style.use(\"classic\")\n",
    "mpl.rcParams[\"figure.figsize\"] = [5, 3]\n",
    "\n",
    "mpl.rcParams[\"axes.linewidth\"] = 0.75\n",
    "mpl.rcParams[\"grid.linewidth\"] = 0.75\n",
    "mpl.rcParams[\"lines.linewidth\"] = 0.75\n",
    "mpl.rcParams[\"patch.linewidth\"] = 0.75\n",
    "mpl.rcParams[\"xtick.major.size\"] = 3\n",
    "mpl.rcParams[\"ytick.major.size\"] = 3\n",
    "\n",
    "mpl.rcParams[\"pdf.fonttype\"] = 42\n",
    "mpl.rcParams[\"ps.fonttype\"] = 42\n",
    "mpl.rcParams[\"font.size\"] = 9\n",
    "mpl.rcParams[\"axes.titlesize\"] = 10\n",
    "mpl.rcParams[\"legend.fontsize\"] = \"medium\"\n",
    "\n",
    "print(\"matplotlib %s\" % mpl.__version__)\n",
    "print('Successful!')"
   ]
  },
  {
   "cell_type": "code",
   "execution_count": 2,
   "metadata": {
    "collapsed": true
   },
   "outputs": [],
   "source": [
    "from bandits.simulator import *\n",
    "from bandits.algorithms import *\n",
    "from bandits.phe import *\n",
    "from bandits.hse import *\n",
    "\n",
    "def linestyle2dashes(style):\n",
    "  if style == \"--\":\n",
    "    return (3, 3)\n",
    "  elif style == \":\":\n",
    "    return (0.5, 2.5)\n",
    "  else:\n",
    "    return (None, None)"
   ]
  },
  {
   "cell_type": "code",
   "execution_count": null,
   "metadata": {
    "collapsed": false
   },
   "outputs": [
    {
     "name": "stdout",
     "output_type": "stream",
     "text": [
      "Evaluating UCB1..... 0.8 seconds\n",
      "Regret: 445.12 +/- 36.43 (median: 462.73, max: 546.88, min: 322.24)\n",
      "Evaluating UCB-V..... 1.0 seconds\n",
      "Regret: 763.11 +/- 54.57 (median: 773.10, max: 935.15, min: 581.20)\n",
      "Evaluating Non-Parametric TS..... 36.3 seconds\n",
      "Regret: 131.58 +/- 19.24 (median: 108.53, max: 214.44, min: 95.84)\n",
      "Evaluating SSMC..... 12.5 seconds\n",
      "Regret: 117.68 +/- 15.13 (median: 135.95, max: 155.95, min: 69.43)\n",
      "Evaluating Gaussian TS..... 0.5 seconds\n",
      "Regret: 136.69 +/- 13.84 (median: 129.69, max: 173.21, min: 99.25)\n",
      "Evaluating PHE..... 1.1 seconds\n",
      "Regret: 86.41 +/- 14.93 (median: 75.47, max: 143.40, min: 49.40)\n",
      "Evaluating HS-SampleWithReplacement"
     ]
    }
   ],
   "source": [
    "algs = [\n",
    "    (\"UCB1\", {}, \"cyan\", \"-\", \"UCB1\"),\n",
    "    (\"UCBV\", {}, \"gray\", \"-\", \"UCB-V\"),\n",
    "    (\"NonParaTS\", {}, \"blue\", \"-\", r\"NP-TS\"),\n",
    "    (\"SSMC\", {}, \"black\", \"-\", r\"SSMC\"),\n",
    "    # (\"TS\", {}, \"red\", \"-\", r\"Ber-TS\"),\n",
    "    (\"GaussTS\", {\"sigma\": 0.5}, \"red\", \"-\", r\"Gauss-TS ($\\sigma = 0.5$)\"),\n",
    "    # (\"PHE\", {\"a\": 1.1, \"pseudo_reward\": \"bernoulli\"}, \"darkorange\", \"-\", \n",
    "         # r\"Ber-PHE ($a = 1.1$)\"),\n",
    "    (\"PHE\", {\"a\": 0.5, \"pseudo_reward\": \"Gauss\"}, \"darkorange\", \"-\", \n",
    "           r\"Gauss-PHE ($a = 0.5$)\"),\n",
    "    (\"HS_SWR_scale\", {\"sample_portion\": 0.6, 'z': 0.6}, \"darkgreen\", \"-\", \n",
    "           r\"CORe ($\\alpha = z = 0.6$)\"),\n",
    "]\n",
    "\n",
    "num_runs = 5\n",
    "n = 10000\n",
    "K = 10\n",
    "noise = 'gauss'\n",
    "\n",
    "step = np.arange(1, n + 1)\n",
    "sube = (step.size // 10) * np.arange(1, 11) - 1\n",
    "\n",
    "plt.figure(figsize=(3.8, 2.6))\n",
    "for fig in range(1):\n",
    "  env = []\n",
    "  for run in range(num_runs):\n",
    "    mu = 0.5 * np.random.rand(K) + 0.25\n",
    "    if noise == 'ber':\n",
    "        env.append(BerBandit(mu))\n",
    "    elif noise == 'beta':\n",
    "        env.append(BetaBandit(mu))\n",
    "    elif noise == 'gauss':\n",
    "        env.append(GaussBandit(mu, sigma=0.5))\n",
    "\n",
    "  plt.subplot(1, 1, fig + 1)\n",
    "  alg_num = 0\n",
    "  for alg in algs:\n",
    "    alg_class = globals()[alg[0]]\n",
    "    regret, _ = evaluate_parallel(alg_class, alg[1], env, n, num_process=5)\n",
    "\n",
    "    cum_regret = regret.cumsum(axis=0)\n",
    "    plt.plot(step, cum_regret.mean(axis=1),\n",
    "      alg[2], dashes=linestyle2dashes(alg[3]),\n",
    "      label=alg[4]) \n",
    "    plt.errorbar(step[sube], cum_regret[sube, :].mean(axis=1),\n",
    "      cum_regret[sube, :].std(axis=1) / np.sqrt(cum_regret.shape[1]),\n",
    "      fmt=\"none\", ecolor=alg[2], capsize=2.5)\n",
    "\n",
    "    alg_num += 1\n",
    "\n",
    "  if fig == 0:\n",
    "    if noise == 'ber':\n",
    "        plt.title(\"Bernoulli bandit\")\n",
    "    elif noise == 'beta':\n",
    "        plt.title(\"Beta bandit\")\n",
    "    elif noise == 'gauss':\n",
    "        plt.title(r\"Gaussian bandit, $\\sigma = 0.5$\")\n",
    "    \n",
    "  plt.xlabel(\"Round n\",size=10)\n",
    "  plt.ylim(bottom=1, top=300)\n",
    "#   plt.yscale(\"log\")\n",
    "\n",
    "  if not fig:\n",
    "    plt.ylabel(\"Regret (average {} runs)\".format(num_runs),size=10)\n",
    "  if fig <= 2:\n",
    "    plt.legend(loc=\"upper right\", ncol=2, frameon=False)\n",
    "\n",
    "plt.tight_layout()\n",
    "\n",
    "now = datetime.datetime.now()\n",
    "with open(\"results/compare_baselines_meanrange05_{}_{}_{}_{}_{}.pdf\". \\\n",
    "          format(noise, now.month, now.day, now.hour, now.minute), \"wb\") as f:\n",
    "      plt.savefig(f, format=\"pdf\", dpi=1200, bbox_inches=0)\n"
   ]
  },
  {
   "cell_type": "code",
   "execution_count": null,
   "metadata": {
    "collapsed": true
   },
   "outputs": [],
   "source": []
  }
 ],
 "metadata": {
  "kernelspec": {
   "display_name": "Python 3",
   "language": "python",
   "name": "python3"
  },
  "language_info": {
   "codemirror_mode": {
    "name": "ipython",
    "version": 3
   },
   "file_extension": ".py",
   "mimetype": "text/x-python",
   "name": "python",
   "nbconvert_exporter": "python",
   "pygments_lexer": "ipython3",
   "version": "3.6.0"
  }
 },
 "nbformat": 4,
 "nbformat_minor": 2
}
